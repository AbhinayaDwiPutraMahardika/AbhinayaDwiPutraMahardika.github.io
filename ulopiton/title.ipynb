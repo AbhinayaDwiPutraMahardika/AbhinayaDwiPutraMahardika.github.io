{
 "cells": [
  {
   "cell_type": "code",
   "execution_count": null,
   "id": "431ef76c",
   "metadata": {},
   "outputs": [
    {
     "ename": "",
     "evalue": "",
     "output_type": "error",
     "traceback": [
      "\u001b[1;31mRunning cells with 'Python 3.13.5' requires the ipykernel package.\n",
      "\u001b[1;31m<a href='command:jupyter.createPythonEnvAndSelectController'>Create a Python Environment</a> with the required packages.\n",
      "\u001b[1;31mOr install 'ipykernel' using the command: 'c:/Python313/python.exe -m pip install ipykernel -U --user --force-reinstall'"
     ]
    }
   ],
   "source": [
    "str_numbers = \"456\"\n",
    "str_numbers_to_int = int(str_numbers)\n",
    "print(\"Before casting :\", str_numbers, \", the data type is\",\n",
    "type(str_numbers))\n",
    "print(\"After casting :\", str_numbers_to_int, \", the data type is\",\n",
    "type(str_numbers_to_int))"
   ]
  },
  {
   "cell_type": "code",
   "execution_count": null,
   "id": "8bf8228b",
   "metadata": {},
   "outputs": [
    {
     "ename": "",
     "evalue": "",
     "output_type": "error",
     "traceback": [
      "\u001b[1;31mRunning cells with 'Python 3.13.5' requires the ipykernel package.\n",
      "\u001b[1;31m<a href='command:jupyter.createPythonEnvAndSelectController'>Create a Python Environment</a> with the required packages.\n",
      "\u001b[1;31mOr install 'ipykernel' using the command: 'c:/Python313/python.exe -m pip install ipykernel -U --user --force-reinstall'"
     ]
    }
   ],
   "source": [
    "integer = 12345\n",
    "integer_to_str = str(integer)\n",
    "print(\"Before casting :\", integer, \", the data type is\", type(integer))\n",
    "print(\"After casting :\", integer_to_str, \", the data type is\",\n",
    "type(integer_to_str))"
   ]
  },
  {
   "cell_type": "code",
   "execution_count": null,
   "id": "3b4f1932",
   "metadata": {},
   "outputs": [],
   "source": [
    "num_int = 1\n",
    "num_bool = bool(num_int)\n",
    "print(num_bool, type(num_bool))\n",
    "num_int = 0\n",
    "\n",
    "num_bool = bool(num_int)\n",
    "print(num_bool, type(num_bool))"
   ]
  },
  {
   "cell_type": "code",
   "execution_count": null,
   "id": "7aafa7ac",
   "metadata": {},
   "outputs": [],
   "source": [
    "# Equal to\n",
    "8 == 8\n",
    "# Not equal to\n",
    "8 != 9\n",
    "# Greater than\n",
    "8 > 9\n",
    "# Less than\n",
    "8 < 9\n",
    "# Less than\n",
    "8 <= 9\n",
    "# Less than\n",
    "9 >= 9"
   ]
  },
  {
   "cell_type": "code",
   "execution_count": null,
   "id": "6203d37f",
   "metadata": {},
   "outputs": [],
   "source": [
    "a = True\n",
    "b = True\n",
    "print(a and b)\n",
    "print(a or b)\n",
    "print(not b)\n",
    "#logic\n",
    "5 > 6 and 6 < 7"
   ]
  },
  {
   "cell_type": "code",
   "execution_count": null,
   "id": "986019b8",
   "metadata": {},
   "outputs": [],
   "source": [
    "e = 8\n",
    "f = 2\n",
    "# Summation\n",
    "sum = e + f\n",
    "print(f\"The sum of e with f is : {sum}\\n\")\n",
    "# Reduction\n",
    "red = e - f\n",
    "print(f\"The reduction of e with f is : {red}\\n\")\n",
    "\n",
    "# Multiplication\n",
    "multi = e * f\n",
    "print(f\"The multipication of e with f is : {multi}\\n\")\n",
    "# Division\n",
    "divi = e / f\n",
    "print(f\"The quotient of e with f is : {divi}\\n\")\n",
    "# Modulo\n",
    "mod = e % f\n",
    "print(f\"The remainder of e with f is : {mod}\\n\")\n",
    "# Power\n",
    "pow = e ** f\n",
    "print(f\"The power of e of f is : {pow}\\n\")"
   ]
  },
  {
   "cell_type": "code",
   "execution_count": null,
   "id": "84ba3b28",
   "metadata": {},
   "outputs": [],
   "source": [
    "#Input\n",
    "name = str(input(\"What is your name : \"))\n",
    "age = int(input(\"What's your age : \"))\n",
    "print(\"Name: \", name)\n",
    "print(\"Age: \", age)"
   ]
  },
  {
   "cell_type": "code",
   "execution_count": null,
   "id": "c0cd1102",
   "metadata": {},
   "outputs": [],
   "source": [
    "#Output\n",
    "# normal print\n",
    "print('Hi all! I am', name, 'age', age, 'years old')\n",
    "# format print\n",
    "print(f'Hi all! I am {name} age {age} years old')\n",
    "# format print\n",
    "print(f'Hi all! I am %s age %d years old'%(name, age))\n",
    "# fortmat output\n",
    "print(30*\"=\")\n",
    "print(\"Temperature Calculator Program\")\n",
    "print(30*\"=\")"
   ]
  },
  {
   "cell_type": "code",
   "execution_count": null,
   "id": "4c12328c",
   "metadata": {},
   "outputs": [],
   "source": [
    "#Using If-Else\n",
    "try:\n",
    "    your_GPA = float(input(\"Enter your GPA: \"))\n",
    "    if 4.0 >= your_GPA >= 0.0:\n",
    "        if 4.0 >= your_GPA >= 3.80:\n",
    "            print(f\"Damn you've got a magna cumlaude with your {your_GPA}GPA\")\n",
    "        elif 3.50 <= your_GPA < 3.80:\n",
    "            print(f\"Cool!! You've got a cumlaude with your {your_GPA} GPA\")\n",
    "        elif 3.00 <= your_GPA < 3.50:\n",
    "            print(f\"You've got a stable GPA tho\")\n",
    "        elif your_GPA < 3.0:\n",
    "            print(f\"You need a stable GPA\")\n",
    "        else:\n",
    "            print(f\"Sorry, your GPA {your_GPA} is out of range and invalid\")\n",
    "except:\n",
    "            print(\"Please enter a valid GPA\")"
   ]
  },
  {
   "cell_type": "code",
   "execution_count": null,
   "id": "eab36cd3",
   "metadata": {},
   "outputs": [],
   "source": [
    "#Using match case\n",
    "try:\n",
    "    status_code = int(input(\"Enter your status code: \"))\n",
    "    print(\"Your code means\")\n",
    "    match status_code:\n",
    "        case 200:\n",
    "            print(\"Success!\")\n",
    "        case 400:\n",
    "            print(\"Bad Request\")\n",
    "        case 401:\n",
    "            print(\"Unauthorized\")\n",
    "        case 402:\n",
    "            print(\"Payment Required\")\n",
    "        case 403:\n",
    "            print(\"Forbidden\")\n",
    "        case 404:\n",
    "            print(\"Not Found\")\n",
    "        case 500:\n",
    "            print(\"Internal Server Error\")\n",
    "except :\n",
    "            print(\"Please enter a valid status code\")"
   ]
  },
  {
   "cell_type": "code",
   "execution_count": null,
   "id": "b1111fe7",
   "metadata": {},
   "outputs": [],
   "source": [
    "#Ternary\n",
    "a = 3\n",
    "b = \"Even Numbers\" if a % 2 == 0 else \"Odd Numbers\"\n",
    "print(b)"
   ]
  },
  {
   "cell_type": "code",
   "execution_count": null,
   "id": "f5675ac8",
   "metadata": {},
   "outputs": [],
   "source": [
    "#Using Loops\n",
    "for i in range(5):\n",
    "    print(i)\n",
    "0\n",
    "1\n",
    "2\n",
    "3\n",
    "4\n",
    "# For loop with range\n",
    "for i in range(5):\n",
    "    print(\"Data science is easy!\")\n",
    "print(50*\"=\")\n",
    "for i in range(1, 5, 2):\n",
    "    print(\"Data science is easy!\")"
   ]
  },
  {
   "cell_type": "code",
   "execution_count": null,
   "id": "32b30063",
   "metadata": {},
   "outputs": [],
   "source": [
    "word = \"I want to master data science\"\n",
    "for letter in word:\n",
    "    print(letter)"
   ]
  },
  {
   "cell_type": "code",
   "execution_count": null,
   "id": "41286cd1",
   "metadata": {},
   "outputs": [],
   "source": [
    "# You can use it with enumerate function\n",
    "for m, n in enumerate(word):\n",
    "    print(f\"Index {m}. {n}\")"
   ]
  },
  {
   "cell_type": "code",
   "execution_count": null,
   "id": "64203388",
   "metadata": {},
   "outputs": [],
   "source": [
    "# It can go backwards\n",
    "for i in range(5,1,-1):\n",
    "    print(\"I want big data's\")"
   ]
  },
  {
   "cell_type": "code",
   "execution_count": null,
   "id": "328a2089",
   "metadata": {},
   "outputs": [],
   "source": [
    "#Keyword control\n",
    "for i in range(5):\n",
    "    if i == 2:\n",
    "        continue # skip theis loop when i is equal to 2\n",
    "if i == 4:\n",
    "    break # stops the loop when i is equal to 4\n",
    "print(i)"
   ]
  },
  {
   "cell_type": "code",
   "execution_count": null,
   "id": "bd8acf1b",
   "metadata": {},
   "outputs": [],
   "source": [
    "#Using while loop\n",
    "count = 0\n",
    "while count < 4:\n",
    "    print(\"Keep the spirits up interns!\")\n",
    "count += 1"
   ]
  }
 ],
 "metadata": {
  "kernelspec": {
   "display_name": "Python 3",
   "language": "python",
   "name": "python3"
  },
  "language_info": {
   "name": "python",
   "version": "3.13.5"
  }
 },
 "nbformat": 4,
 "nbformat_minor": 5
}
